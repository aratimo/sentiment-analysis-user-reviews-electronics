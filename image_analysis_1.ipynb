{
  "nbformat": 4,
  "nbformat_minor": 0,
  "metadata": {
    "colab": {
      "provenance": [],
      "mount_file_id": "1wscFmfcMyHh9zNpVzSDCCPIWX58KrAJv",
      "authorship_tag": "ABX9TyM80m06f/7DGLDk4PvbU+lJ",
      "include_colab_link": true
    },
    "kernelspec": {
      "name": "python3",
      "display_name": "Python 3"
    },
    "language_info": {
      "name": "python"
    }
  },
  "cells": [
    {
      "cell_type": "markdown",
      "metadata": {
        "id": "view-in-github",
        "colab_type": "text"
      },
      "source": [
        "<a href=\"https://colab.research.google.com/github/aratimo/sentiment-analysis-user-reviews-electronics/blob/main/image_analysis_1.ipynb\" target=\"_parent\"><img src=\"https://colab.research.google.com/assets/colab-badge.svg\" alt=\"Open In Colab\"/></a>"
      ]
    },
    {
      "cell_type": "code",
      "source": [
        "import pandas as pd"
      ],
      "metadata": {
        "id": "ik-sczzEF1g5"
      },
      "execution_count": 2,
      "outputs": []
    },
    {
      "cell_type": "code",
      "source": [
        "from google.colab import drive\n",
        "drive.mount('/content/drive',force_remount=True)"
      ],
      "metadata": {
        "colab": {
          "base_uri": "https://localhost:8080/"
        },
        "id": "A0FoIo89OG3t",
        "outputId": "2e83b27d-6209-4e06-c0c0-988057cb5b2f"
      },
      "execution_count": 3,
      "outputs": [
        {
          "output_type": "stream",
          "name": "stdout",
          "text": [
            "Mounted at /content/drive\n"
          ]
        }
      ]
    },
    {
      "cell_type": "code",
      "source": [
        "file_path = '/content/drive/MyDrive/2-Cell_Phones_and_Accessories_5.json'"
      ],
      "metadata": {
        "id": "kGSZwjm-F4Aj"
      },
      "execution_count": 4,
      "outputs": []
    },
    {
      "cell_type": "code",
      "source": [
        " df = pd.read_json(file_path,lines=True)"
      ],
      "metadata": {
        "id": "xITb2cnQF_pZ"
      },
      "execution_count": 5,
      "outputs": []
    },
    {
      "cell_type": "code",
      "source": [
        "print(\"Title: \", df.columns)\n",
        "print(\"Number of columns: \", len(df.columns))\n",
        "null_counts = df.isnull().sum()\n",
        "print(\"Total number of records:\", df.shape[0])\n",
        "print(null_counts)\n",
        "print(\"number of records having images: \",df.shape[0]-1101330)"
      ],
      "metadata": {
        "colab": {
          "base_uri": "https://localhost:8080/"
        },
        "id": "nrwMapaRb499",
        "outputId": "13fde00b-072e-4df4-b9f9-cf23f1a0a5c4"
      },
      "execution_count": 6,
      "outputs": [
        {
          "output_type": "stream",
          "name": "stdout",
          "text": [
            "Title:  Index(['overall', 'verified', 'reviewTime', 'reviewerID', 'asin', 'style',\n",
            "       'reviewerName', 'reviewText', 'summary', 'unixReviewTime', 'vote',\n",
            "       'image'],\n",
            "      dtype='object')\n",
            "Number of columns:  12\n",
            "Total number of records: 1128437\n",
            "overall                 0\n",
            "verified                0\n",
            "reviewTime              0\n",
            "reviewerID              0\n",
            "asin                    0\n",
            "style              523196\n",
            "reviewerName          135\n",
            "reviewText            765\n",
            "summary               517\n",
            "unixReviewTime          0\n",
            "vote              1036403\n",
            "image             1101330\n",
            "dtype: int64\n",
            "number of records having images:  27107\n"
          ]
        }
      ]
    },
    {
      "cell_type": "code",
      "source": [
        "df.dropna(subset=['image'], inplace=True)\n",
        "null_counts = df.isnull().sum()\n",
        "print(null_counts)"
      ],
      "metadata": {
        "colab": {
          "base_uri": "https://localhost:8080/"
        },
        "id": "0TYJqu33dEMn",
        "outputId": "7ac9d404-98ee-4c0d-9344-8e71694e87db"
      },
      "execution_count": 7,
      "outputs": [
        {
          "output_type": "stream",
          "name": "stdout",
          "text": [
            "overall               0\n",
            "verified              0\n",
            "reviewTime            0\n",
            "reviewerID            0\n",
            "asin                  0\n",
            "style             11003\n",
            "reviewerName         16\n",
            "reviewText           94\n",
            "summary              19\n",
            "unixReviewTime        0\n",
            "vote              14668\n",
            "image                 0\n",
            "dtype: int64\n"
          ]
        }
      ]
    },
    {
      "cell_type": "code",
      "source": [
        "print(df.head(10))"
      ],
      "metadata": {
        "colab": {
          "base_uri": "https://localhost:8080/"
        },
        "id": "cQX-EYahdYa7",
        "outputId": "c10f7b77-ab18-47f8-d2b0-04b421e29368"
      },
      "execution_count": 8,
      "outputs": [
        {
          "output_type": "stream",
          "name": "stdout",
          "text": [
            "      overall  verified   reviewTime      reviewerID        asin  \\\n",
            "249         5      True  10 12, 2015   AHMRKS7TFV645  9638762632   \n",
            "625         4      True  05 31, 2011   ARTCT91AX3SW1  B00009WCAP   \n",
            "638         4      True  11 13, 2015  A24Y8B3MAD57SZ  B0000DIDAH   \n",
            "909         4      True  12 23, 2016  A2K4Z2Q3ZSKQFB  B0002SYC5O   \n",
            "1202        5     False  09 23, 2005  A2PSC7LUNIDEAH  B00063DKVC   \n",
            "1307        5      True   05 5, 2008   APY2KYDHD8QIZ  B0006TIA8Y   \n",
            "1613        3      True  08 27, 2011  A19RTM7MQ3G7ZX  B0009B0IX4   \n",
            "1982        1      True  08 30, 2006  A2V7EO331SFUF6  B0009W8DLC   \n",
            "2327        5      True  07 19, 2015  A2YE2GLUQUVLYA  B000DILL8E   \n",
            "2405        5      True   03 1, 2008  A1N7IP4LAY53CE  B000ELUXIO   \n",
            "\n",
            "                                                  style    reviewerName  \\\n",
            "249                                                 NaN   Salah Hawsawi   \n",
            "625                                                 NaN           Jamal   \n",
            "638   {'Size:': ' Men's 46 mm', 'Color:': ' Black', ...     james avila   \n",
            "909   {'Color:': ' White', 'Package Type:': ' Standa...    Alex Y. Yoon   \n",
            "1202                                                NaN  Dmitry Kristal   \n",
            "1307  {'Model:': ' 7-Port', 'Package Type:': ' Stand...    D. Bennethum   \n",
            "1613           {'Package Type:': ' Standard Packaging'}       NaturReal   \n",
            "1982                                                NaN   D.B. Spalding   \n",
            "2327                                                NaN              mh   \n",
            "2405                                                NaN              NK   \n",
            "\n",
            "                                             reviewText  \\\n",
            "249                                           Very good   \n",
            "625   I set my phone down on my computer desk for 10...   \n",
            "638   This a high quality band and it feels and look...   \n",
            "909   I always care most about sound quality and sig...   \n",
            "1202  First, let me just say to those who bash this ...   \n",
            "1307  The one other reviewer was right on when they ...   \n",
            "1613  I've went through 3 of these bluetooth headset...   \n",
            "1982  (updated)\\n+ Good battery life\\n+ Very comfort...   \n",
            "2327  recently switched cases to a duracell powermat...   \n",
            "2405  The case is made of high quality leather with ...   \n",
            "\n",
            "                                                summary  unixReviewTime vote  \\\n",
            "249                                          Five Stars      1444608000    9   \n",
            "625                      Weird That it works..... kinda      1306800000   10   \n",
            "638   ... high quality band and it feels and looks w...      1447372800    2   \n",
            "909   Great sound quality and solidly built headphon...      1482451200    3   \n",
            "1202  More Than Just a Sidekick---It's Your Best Fri...      1127433600   11   \n",
            "1307                                  Great LITTLE Hub!      1209945600    3   \n",
            "1613                                 It's Ok... I guess      1314403200  NaN   \n",
            "1982  Nice design marred by some glitches; first uni...      1156896000   14   \n",
            "2327  I especially like the heavy duty clip on the b...      1437264000  NaN   \n",
            "2405  Great, High Quality Case.  Fits AT&T (HTC) 852...      1204329600  NaN   \n",
            "\n",
            "                                                  image  \n",
            "249   [https://images-na.ssl-images-amazon.com/image...  \n",
            "625   [https://images-na.ssl-images-amazon.com/image...  \n",
            "638   [https://images-na.ssl-images-amazon.com/image...  \n",
            "909   [https://images-na.ssl-images-amazon.com/image...  \n",
            "1202  [https://images-na.ssl-images-amazon.com/image...  \n",
            "1307  [https://images-na.ssl-images-amazon.com/image...  \n",
            "1613  [https://images-na.ssl-images-amazon.com/image...  \n",
            "1982  [https://images-na.ssl-images-amazon.com/image...  \n",
            "2327  [https://images-na.ssl-images-amazon.com/image...  \n",
            "2405  [https://images-na.ssl-images-amazon.com/image...  \n"
          ]
        }
      ]
    },
    {
      "cell_type": "code",
      "source": [
        "import pandas as pd\n",
        "from PIL import Image\n",
        "import urllib.request\n",
        "from io import BytesIO\n",
        "headers = {\n",
        "    'User-Agent': 'Mozilla/5.0 (Windows NT 10.0; Win64; x64) AppleWebKit/537.36 (KHTML, like Gecko) Chrome/58.0.3029.110 Safari/537.36'}\n",
        "\n",
        "# assuming the DataFrame is called \"df\"\n",
        "image_urls = df['image'].astype(str).str.replace('[', '').str.replace(']', '').astype(str).tolist()[:5]\n",
        "\n",
        "for url in image_urls[:5]:\n",
        "  parsed_url = urllib.parse.urlparse(url)\n",
        "  if parsed_url.scheme and parsed_url.netloc and parsed_url.path:\n",
        "    print('URL is properly formatted')\n",
        "  else:\n",
        "    print('URL is not properly formatted')\n",
        "  #with urllib.request.urlopen(url) as url_response:\n",
        "        #img = Image.open(BytesIO(url_response.read()))\n",
        "        #display(img)"
      ],
      "metadata": {
        "colab": {
          "base_uri": "https://localhost:8080/"
        },
        "id": "g6K2e4EMdy36",
        "outputId": "13157350-6335-4cb3-8dc0-d007df1208cc"
      },
      "execution_count": 69,
      "outputs": [
        {
          "output_type": "stream",
          "name": "stdout",
          "text": [
            "URL is not properly formatted\n",
            "URL is not properly formatted\n",
            "URL is not properly formatted\n",
            "URL is not properly formatted\n",
            "URL is not properly formatted\n"
          ]
        },
        {
          "output_type": "stream",
          "name": "stderr",
          "text": [
            "<ipython-input-69-e6e564bc8a5d>:9: FutureWarning: The default value of regex will change from True to False in a future version. In addition, single character regular expressions will *not* be treated as literal strings when regex=True.\n",
            "  image_urls = df['image'].astype(str).str.replace('[', '').str.replace(']', '').astype(str).tolist()[:5]\n"
          ]
        }
      ]
    },
    {
      "cell_type": "code",
      "source": [
        "from IPython.core.display import display, HTML\n",
        "display(HTML(\"<style>pre {white-space: pre-wrap;}</style>\"))\n",
        "\n",
        "image_urls = df['image']\n",
        "for url in image_urls[:5]:\n",
        "  print(repr(url))"
      ],
      "metadata": {
        "colab": {
          "base_uri": "https://localhost:8080/",
          "height": 219
        },
        "id": "rnv0eRqLiApL",
        "outputId": "842400b6-7517-4f40-91ff-ffc59983cbaf"
      },
      "execution_count": 70,
      "outputs": [
        {
          "output_type": "display_data",
          "data": {
            "text/plain": [
              "<IPython.core.display.HTML object>"
            ],
            "text/html": [
              "<style>pre {white-space: pre-wrap;}</style>"
            ]
          },
          "metadata": {}
        },
        {
          "output_type": "stream",
          "name": "stdout",
          "text": [
            "['https://images-na.ssl-images-amazon.com/images/I/716hrVPQP8L._SY88.jpg', 'https://images-na.ssl-images-amazon.com/images/I/61PNsUzDtDL._SY88.jpg']\n",
            "['https://images-na.ssl-images-amazon.com/images/I/51qFFxz-+EL._SY88.png', 'https://images-na.ssl-images-amazon.com/images/I/51HrMEZNPVL._SY88.png']\n",
            "['https://images-na.ssl-images-amazon.com/images/I/61WTWEq4N9L._SY88.jpg']\n",
            "['https://images-na.ssl-images-amazon.com/images/I/41fz4+VaXBL._SY88.jpg', 'https://images-na.ssl-images-amazon.com/images/I/41i8fUwONWL._SY88.jpg', 'https://images-na.ssl-images-amazon.com/images/I/41U1gmfcbxL._SY88.jpg', 'https://images-na.ssl-images-amazon.com/images/I/41vs73MnqbL._SY88.jpg']\n",
            "['https://images-na.ssl-images-amazon.com/images/I/4193tjnLksL._SY88.jpg', 'https://images-na.ssl-images-amazon.com/images/I/313Cu9x3JEL._SY88.jpg']\n"
          ]
        }
      ]
    },
    {
      "cell_type": "code",
      "source": [
        "import requests\n",
        "# extract individual URLs from lists if 'image' column contains lists\n",
        "image_urls = []\n",
        "for url_list in df['image']:\n",
        "    if isinstance(url_list, list):\n",
        "        for url in url_list:\n",
        "            image_urls.append(url)\n",
        "    else:\n",
        "        image_urls.append(url_list)\n",
        "\n",
        "# now image_urls should contain all URLs from the 'image' column\n",
        "#print(image_urls)\n",
        "for url in image_urls[:5]:\n",
        "    response = requests.get(url)\n",
        "    img = Image.open(BytesIO(response.content))\n",
        "    display(img)"
      ],
      "metadata": {
        "colab": {
          "base_uri": "https://localhost:8080/",
          "height": 457
        },
        "id": "8KxoVBEdlELw",
        "outputId": "c3ce843c-2807-4a5d-e02d-2a2c04635042"
      },
      "execution_count": 71,
      "outputs": [
        {
          "output_type": "display_data",
          "data": {
            "text/plain": [
              "<PIL.JpegImagePlugin.JpegImageFile image mode=RGB size=156x88 at 0x7F91B760FE20>"
            ],
            "image/png": "[encoded data removed]"
          },
          "metadata": {}
        },
        {
          "output_type": "display_data",
          "data": {
            "text/plain": [
              "<PIL.JpegImagePlugin.JpegImageFile image mode=RGB size=156x88 at 0x7F91A70B6670>"
            ],
            "image/png": "[encoded data removed]"
          },
          "metadata": {}
        },
        {
          "output_type": "display_data",
          "data": {
            "text/plain": [
              "<PIL.JpegImagePlugin.JpegImageFile image mode=RGB size=49x88 at 0x7F91C91EE700>"
            ],
            "image/png": "[encoded data removed]"
          },
          "metadata": {}
        },
        {
          "output_type": "display_data",
          "data": {
            "text/plain": [
              "<PIL.JpegImagePlugin.JpegImageFile image mode=RGB size=49x88 at 0x7F91A70B6670>"
            ],
            "image/png": "[encoded data removed]"
          },
          "metadata": {}
        },
        {
          "output_type": "display_data",
          "data": {
            "text/plain": [
              "<PIL.JpegImagePlugin.JpegImageFile image mode=RGB size=61x88 at 0x7F91A2F6C220>"
            ],
            "image/png": "[encoded data removed]"
          },
          "metadata": {}
        }
      ]
    },
    {
      "cell_type": "code",
      "source": [
        "df = df.dropna(subset=['reviewText'])\n",
        "df = df.dropna(subset=['summary'])\n",
        "null_counts = df.isnull().sum()\n",
        "print(null_counts)"
      ],
      "metadata": {
        "colab": {
          "base_uri": "https://localhost:8080/"
        },
        "id": "6sp1G75rvK23",
        "outputId": "17ba14f2-d0e2-444b-b4f3-d5affbbe7e8c"
      },
      "execution_count": 9,
      "outputs": [
        {
          "output_type": "stream",
          "name": "stdout",
          "text": [
            "overall               0\n",
            "verified              0\n",
            "reviewTime            0\n",
            "reviewerID            0\n",
            "asin                  0\n",
            "style             10961\n",
            "reviewerName         16\n",
            "reviewText            0\n",
            "summary               0\n",
            "unixReviewTime        0\n",
            "vote              14590\n",
            "image                 0\n",
            "dtype: int64\n"
          ]
        }
      ]
    },
    {
      "cell_type": "code",
      "source": [
        "import nltk\n",
        "import string\n",
        "from nltk.corpus import stopwords\n",
        "from nltk.stem import WordNetLemmatizer\n",
        "\n",
        "nltk.download('stopwords')\n",
        "nltk.download('wordnet')"
      ],
      "metadata": {
        "colab": {
          "base_uri": "https://localhost:8080/"
        },
        "id": "NWu5voIyuNoY",
        "outputId": "fbbce09e-85ad-41b9-bb6b-9026ada3b4b5"
      },
      "execution_count": 10,
      "outputs": [
        {
          "output_type": "stream",
          "name": "stderr",
          "text": [
            "[nltk_data] Downloading package stopwords to /root/nltk_data...\n",
            "[nltk_data]   Unzipping corpora/stopwords.zip.\n",
            "[nltk_data] Downloading package wordnet to /root/nltk_data...\n"
          ]
        },
        {
          "output_type": "execute_result",
          "data": {
            "text/plain": [
              "True"
            ]
          },
          "metadata": {},
          "execution_count": 10
        }
      ]
    },
    {
      "cell_type": "code",
      "source": [
        "lemmatizer = WordNetLemmatizer()\n",
        "\n",
        "def clean_text(text):\n",
        "    # Convert text to lowercase\n",
        "    text = text.lower()\n",
        "    # Remove punctuations\n",
        "    text = \"\".join([char for char in text if char not in string.punctuation])\n",
        "    # Remove stopwords\n",
        "    text = \" \".join([word for word in text.split() if word not in stopwords.words('english')])\n",
        "    # Lemmatize words\n",
        "    text = \" \".join([lemmatizer.lemmatize(word) for word in text.split()])\n",
        "    return text"
      ],
      "metadata": {
        "id": "CyJ9sIBLuUMG"
      },
      "execution_count": 11,
      "outputs": []
    },
    {
      "cell_type": "code",
      "source": [
        "df['sentiment'] = None\n",
        "from sklearn.model_selection import train_test_split\n",
        "\n",
        "def map_sentiment(score):\n",
        "    if score >= 4:\n",
        "        return 1\n",
        "    elif score == 3:\n",
        "        return 0\n",
        "    else:\n",
        "        return -1\n",
        "\n",
        "# Apply the function to the 'overall' column to create a new 'sentiment' column\n",
        "df['sentiment'] = df['overall'].apply(map_sentiment)\n",
        "\n",
        "train_df, val_df = train_test_split(df, test_size=0.2, random_state=42)\n",
        "val_df, test_df = train_test_split(val_df, test_size=0.5, random_state=42)"
      ],
      "metadata": {
        "id": "AlXalnfB8A5R"
      },
      "execution_count": 12,
      "outputs": []
    },
    {
      "cell_type": "code",
      "source": [
        "import re\n",
        "import string\n",
        "import nltk\n",
        "from nltk.corpus import stopwords\n",
        "from nltk.stem import WordNetLemmatizer\n",
        "from nltk.tokenize import word_tokenize, sent_tokenize\n",
        "from nltk.sentiment.vader import SentimentIntensityAnalyzer\n",
        "\n",
        "nltk.download('stopwords')\n",
        "nltk.download('wordnet')\n",
        "nltk.download('vader_lexicon')\n",
        "nltk.download('averaged_perceptron_tagger')\n",
        "\n",
        "stop_words = stopwords.words('english')\n",
        "lemmatizer = WordNetLemmatizer()\n",
        "\n",
        "def clean_text(text):\n",
        "    # Convert text to lowercase\n",
        "    text = text.lower()\n",
        "    # Remove URLs\n",
        "    text = re.sub(r'http\\S+', '', text)\n",
        "    # Remove special characters and numbers\n",
        "    text = re.sub(r'[^a-zA-Z\\s]', '', text)\n",
        "    # Tokenize text\n",
        "    words = word_tokenize(text)\n",
        "    # Remove stop words\n",
        "    words = [word for word in words if word not in stop_words]\n",
        "    # Perform spell checking\n",
        "    # ...\n",
        "    # Handle negations\n",
        "    # ...\n",
        "    # Handle emojis and emoticons\n",
        "    # ...\n",
        "    # Perform lemmatization\n",
        "    words = [lemmatizer.lemmatize(word) for word in words]\n",
        "    # Perform POS tagging\n",
        "    tagged_words = nltk.pos_tag(words)\n",
        "    # Remove non-noun/verb/adjective words\n",
        "    tagged_words = [(word, tag) for word, tag in tagged_words if tag.startswith('N') or tag.startswith('V') or tag.startswith('J')]\n",
        "    # Join words back into text\n",
        "    text = ' '.join([word for word, tag in tagged_words])\n",
        "    return text"
      ],
      "metadata": {
        "colab": {
          "base_uri": "https://localhost:8080/"
        },
        "id": "fOC1jh21yf43",
        "outputId": "8c1e1de9-4e54-4499-88e1-adb1674e27cd"
      },
      "execution_count": 13,
      "outputs": [
        {
          "output_type": "stream",
          "name": "stderr",
          "text": [
            "[nltk_data] Downloading package stopwords to /root/nltk_data...\n",
            "[nltk_data]   Package stopwords is already up-to-date!\n",
            "[nltk_data] Downloading package wordnet to /root/nltk_data...\n",
            "[nltk_data]   Package wordnet is already up-to-date!\n",
            "[nltk_data] Downloading package vader_lexicon to /root/nltk_data...\n",
            "[nltk_data] Downloading package averaged_perceptron_tagger to\n",
            "[nltk_data]     /root/nltk_data...\n",
            "[nltk_data]   Unzipping taggers/averaged_perceptron_tagger.zip.\n"
          ]
        }
      ]
    },
    {
      "cell_type": "code",
      "source": [
        "null_counts = df.isnull().sum()\n",
        "print(null_counts)\n",
        "print(df['reviewText'].head(5))"
      ],
      "metadata": {
        "colab": {
          "base_uri": "https://localhost:8080/"
        },
        "id": "OqXCp0tL-N9n",
        "outputId": "b2a8b03f-c6ba-43aa-d1c1-dd246af060b8"
      },
      "execution_count": 14,
      "outputs": [
        {
          "output_type": "stream",
          "name": "stdout",
          "text": [
            "overall               0\n",
            "verified              0\n",
            "reviewTime            0\n",
            "reviewerID            0\n",
            "asin                  0\n",
            "style             10961\n",
            "reviewerName         16\n",
            "reviewText            0\n",
            "summary               0\n",
            "unixReviewTime        0\n",
            "vote              14590\n",
            "image                 0\n",
            "sentiment             0\n",
            "dtype: int64\n",
            "249                                             Very good\n",
            "625     I set my phone down on my computer desk for 10...\n",
            "638     This a high quality band and it feels and look...\n",
            "909     I always care most about sound quality and sig...\n",
            "1202    First, let me just say to those who bash this ...\n",
            "Name: reviewText, dtype: object\n"
          ]
        }
      ]
    },
    {
      "cell_type": "code",
      "source": [
        "train_df['text'] = train_df['reviewText'] + \" \" + train_df['summary']\n",
        "val_df['text'] = val_df['reviewText'] + \" \" + val_df['summary']\n",
        "test_df['text'] = test_df['reviewText'] + \" \" + test_df['summary']\n",
        "\n",
        "nltk.download('punkt')\n",
        "\n",
        "train_df['text'] = train_df['text'].apply(lambda x: clean_text(x))\n",
        "val_df['text'] = val_df['text'].apply(lambda x: clean_text(x))\n",
        "test_df['text'] = test_df['text'].apply(lambda x: clean_text(x))"
      ],
      "metadata": {
        "id": "62RxBdwP52L1",
        "colab": {
          "base_uri": "https://localhost:8080/"
        },
        "outputId": "79403323-d0a3-4523-c155-f7b83c465f50"
      },
      "execution_count": 16,
      "outputs": [
        {
          "output_type": "stream",
          "name": "stderr",
          "text": [
            "[nltk_data] Downloading package punkt to /root/nltk_data...\n",
            "[nltk_data]   Unzipping tokenizers/punkt.zip.\n"
          ]
        }
      ]
    },
    {
      "cell_type": "code",
      "source": [
        "from sklearn.naive_bayes import MultinomialNB\n",
        "from sklearn.metrics import accuracy_score, precision_score, recall_score, f1_score\n",
        "from sklearn.feature_extraction.text import CountVectorizer\n",
        "\n",
        "# Define a function to train and evaluate a Naive Bayes model\n",
        "def train_evaluate_naive_bayes(train_data, val_data, test_data):\n",
        "    # Define a CountVectorizer to convert text into bag-of-words features\n",
        "    vectorizer = CountVectorizer()\n",
        "    \n",
        "    # Convert the text data into bag-of-words features\n",
        "    X_train = vectorizer.fit_transform(train_data['text'])\n",
        "    y_train = train_data['sentiment']\n",
        "    X_val = vectorizer.transform(val_data['text'])\n",
        "    y_val = val_data['sentiment']\n",
        "    X_test = vectorizer.transform(test_data['text'])\n",
        "    y_test = test_data['sentiment']\n",
        "    \n",
        "    # Train a Naive Bayes model on the training set\n",
        "    model = MultinomialNB()\n",
        "    model.fit(X_train, y_train)\n",
        "    \n",
        "    # Evaluate the model on the validation set\n",
        "    y_val_pred = model.predict(X_val)\n",
        "    val_accuracy = accuracy_score(y_val, y_val_pred)\n",
        "    val_precision = precision_score(y_val, y_val_pred, average='macro')\n",
        "    val_recall = recall_score(y_val, y_val_pred, average='macro')\n",
        "    val_f1 = f1_score(y_val, y_val_pred, average='macro')\n",
        "    \n",
        "    # Evaluate the model on the test set\n",
        "    y_test_pred = model.predict(X_test)\n",
        "    test_accuracy = accuracy_score(y_test, y_test_pred)\n",
        "    test_precision = precision_score(y_test, y_test_pred, average='macro')\n",
        "    test_recall = recall_score(y_test, y_test_pred, average='macro')\n",
        "    test_f1 = f1_score(y_test, y_test_pred, average='macro')\n",
        "    \n",
        "    # Return the evaluation metrics\n",
        "    return {\n",
        "        'val_accuracy': val_accuracy,\n",
        "        'val_precision': val_precision,\n",
        "        'val_recall': val_recall,\n",
        "        'val_f1': val_f1,\n",
        "        'test_accuracy': test_accuracy,\n",
        "        'test_precision': test_precision,\n",
        "        'test_recall': test_recall,\n",
        "        'test_f1': test_f1\n",
        "    }\n",
        "\n",
        "# Train and evaluate a Naive Bayes model on the data split into train, validation, and test sets\n",
        "evaluation_results = train_evaluate_naive_bayes(train_df, val_df, test_df)\n",
        "print(evaluation_results)"
      ],
      "metadata": {
        "colab": {
          "base_uri": "https://localhost:8080/"
        },
        "id": "542gNkNsyiNz",
        "outputId": "c06ebc39-91dd-43c9-ec21-3255309b353b"
      },
      "execution_count": 79,
      "outputs": [
        {
          "output_type": "stream",
          "name": "stdout",
          "text": [
            "{'val_accuracy': 0.8377176732123008, 'val_precision': 0.6103623717091425, 'val_recall': 0.5599670984889632, 'val_f1': 0.546167818132055, 'test_accuracy': 0.8414814814814815, 'test_precision': 0.6003955387576821, 'test_recall': 0.5517331149004772, 'test_f1': 0.5417191340914225}\n"
          ]
        }
      ]
    },
    {
      "cell_type": "code",
      "source": [
        "from sklearn.feature_extraction.text import TfidfVectorizer\n",
        "from sklearn.svm import LinearSVC\n",
        "from sklearn.metrics import accuracy_score, precision_score, recall_score, f1_score\n",
        "\n",
        "# Convert the text data to numerical features using TfidfVectorizer\n",
        "vectorizer = TfidfVectorizer()\n",
        "train_features = vectorizer.fit_transform(train_df['text'])\n",
        "val_features = vectorizer.transform(val_df['text'])\n",
        "test_features = vectorizer.transform(test_df['text'])\n",
        "\n",
        "# Train a Linear SVM model on the training data\n",
        "svm = LinearSVC(random_state=42)\n",
        "svm.fit(train_features, train_df['sentiment'])\n",
        "\n",
        "# Predict on the validation and test data\n",
        "val_predictions = svm.predict(val_features)\n",
        "test_predictions = svm.predict(test_features)\n",
        "\n",
        "# Evaluate the model performance on validation and test data\n",
        "val_accuracy = accuracy_score(val_df['sentiment'], val_predictions)\n",
        "val_precision = precision_score(val_df['sentiment'], val_predictions, average='weighted')\n",
        "val_recall = recall_score(val_df['sentiment'], val_predictions, average='weighted')\n",
        "val_f1 = f1_score(val_df['sentiment'], val_predictions, average='weighted')\n",
        "\n",
        "test_accuracy = accuracy_score(test_df['sentiment'], test_predictions)\n",
        "test_precision = precision_score(test_df['sentiment'], test_predictions, average='weighted')\n",
        "test_recall = recall_score(test_df['sentiment'], test_predictions, average='weighted')\n",
        "test_f1 = f1_score(test_df['sentiment'], test_predictions, average='weighted')\n",
        "\n",
        "print('Validation results:')\n",
        "print(f'Accuracy: {val_accuracy:.4f}, Precision: {val_precision:.4f}, Recall: {val_recall:.4f}, F1: {val_f1:.4f}')\n",
        "print('Test results:')\n",
        "print(f'Accuracy: {test_accuracy:.4f}, Precision: {test_precision:.4f}, Recall: {test_recall:.4f}, F1: {test_f1:.4f}')"
      ],
      "metadata": {
        "colab": {
          "base_uri": "https://localhost:8080/"
        },
        "id": "tA-pvpcAyRip",
        "outputId": "e39f51d1-ec21-4026-c86d-c6a0d97263fd"
      },
      "execution_count": 80,
      "outputs": [
        {
          "output_type": "stream",
          "name": "stdout",
          "text": [
            "Validation results:\n",
            "Accuracy: 0.8614, Precision: 0.8318, Recall: 0.8614, F1: 0.8398\n",
            "Test results:\n",
            "Accuracy: 0.8678, Precision: 0.8401, Recall: 0.8678, F1: 0.8494\n"
          ]
        }
      ]
    },
    {
      "cell_type": "code",
      "source": [
        "from sklearn.feature_extraction.text import TfidfVectorizer\n",
        "from sklearn.linear_model import LogisticRegression\n",
        "from sklearn.metrics import accuracy_score, precision_score, recall_score, f1_score\n",
        "from sklearn.model_selection import train_test_split\n",
        "\n",
        "# Vectorize the text data using TF-IDF\n",
        "vectorizer = TfidfVectorizer()\n",
        "X_train = vectorizer.fit_transform(train_df['text'].values.astype('U'))\n",
        "X_val = vectorizer.transform(val_df['text'].values.astype('U'))\n",
        "X_test = vectorizer.transform(test_df['text'].values.astype('U'))\n",
        "\n",
        "# Train a Logistic Regression model on the data\n",
        "lr_model = LogisticRegression(random_state=42, max_iter=5000)\n",
        "lr_model.fit(X_train, train_df['sentiment'])\n",
        "\n",
        "# Evaluate the model on the validation set\n",
        "val_preds = lr_model.predict(X_val)\n",
        "val_accuracy = accuracy_score(val_df['sentiment'], val_preds)\n",
        "val_precision = precision_score(val_df['sentiment'], val_preds, average='weighted')\n",
        "val_recall = recall_score(val_df['sentiment'], val_preds, average='weighted')\n",
        "val_f1 = f1_score(val_df['sentiment'], val_preds, average='weighted')\n",
        "\n",
        "# Evaluate the model on the test set\n",
        "test_preds = lr_model.predict(X_test)\n",
        "test_accuracy = accuracy_score(test_df['sentiment'], test_preds)\n",
        "test_precision = precision_score(test_df['sentiment'], test_preds, average='weighted')\n",
        "test_recall = recall_score(test_df['sentiment'], test_preds, average='weighted')\n",
        "test_f1 = f1_score(test_df['sentiment'], test_preds, average='weighted')\n",
        "\n",
        "# Print the evaluation results\n",
        "evaluation_results = {\n",
        "    'val_accuracy': val_accuracy,\n",
        "    'val_precision': val_precision,\n",
        "    'val_recall': val_recall,\n",
        "    'val_f1': val_f1,\n",
        "    'test_accuracy': test_accuracy,\n",
        "    'test_precision': test_precision,\n",
        "    'test_recall': test_recall,\n",
        "    'test_f1': test_f1\n",
        "}\n",
        "print(evaluation_results)"
      ],
      "metadata": {
        "colab": {
          "base_uri": "https://localhost:8080/"
        },
        "id": "fGGBPwJt4X3M",
        "outputId": "21ad7aa1-ef6a-4f74-c8c0-bad4da418767"
      },
      "execution_count": 81,
      "outputs": [
        {
          "output_type": "stream",
          "name": "stdout",
          "text": [
            "{'val_accuracy': 0.861430159318266, 'val_precision': 0.8272730645240137, 'val_recall': 0.861430159318266, 'val_f1': 0.8330380338180781, 'test_accuracy': 0.8659259259259259, 'test_precision': 0.8340870810513791, 'test_recall': 0.8659259259259259, 'test_f1': 0.8420975415626792}\n"
          ]
        }
      ]
    },
    {
      "cell_type": "code",
      "source": [
        "from sklearn.ensemble import RandomForestClassifier\n",
        "from sklearn.feature_extraction.text import CountVectorizer\n",
        "from sklearn.metrics import accuracy_score, precision_score, recall_score, f1_score\n",
        "from sklearn.model_selection import train_test_split\n",
        "\n",
        "# Convert the review text to a bag of words representation\n",
        "vectorizer = CountVectorizer(stop_words=\"english\")\n",
        "X_train = vectorizer.fit_transform(train_df[\"text\"])\n",
        "y_train = train_df[\"sentiment\"]\n",
        "X_val = vectorizer.transform(val_df[\"text\"])\n",
        "y_val = val_df[\"sentiment\"]\n",
        "X_test = vectorizer.transform(test_df[\"text\"])\n",
        "y_test = test_df[\"sentiment\"]\n",
        "\n",
        "# Train a random forest classifier on the training data\n",
        "rf = RandomForestClassifier(random_state=42)\n",
        "rf.fit(X_train, y_train)\n",
        "\n",
        "# Evaluate the model on the validation set\n",
        "y_pred = rf.predict(X_val)\n",
        "val_accuracy = accuracy_score(y_val, y_pred)\n",
        "val_precision = precision_score(y_val, y_pred, average=\"weighted\")\n",
        "val_recall = recall_score(y_val, y_pred, average=\"weighted\")\n",
        "val_f1 = f1_score(y_val, y_pred, average=\"weighted\")\n",
        "\n",
        "# Evaluate the model on the test set\n",
        "y_pred = rf.predict(X_test)\n",
        "test_accuracy = accuracy_score(y_test, y_pred)\n",
        "test_precision = precision_score(y_test, y_pred, average=\"weighted\")\n",
        "test_recall = recall_score(y_test, y_pred, average=\"weighted\")\n",
        "test_f1 = f1_score(y_test, y_pred, average=\"weighted\")\n",
        "\n",
        "# Print the evaluation metrics\n",
        "print(\"Validation Metrics:\")\n",
        "print(f\"Accuracy: {val_accuracy:.4f}\")\n",
        "print(f\"Precision: {val_precision:.4f}\")\n",
        "print(f\"Recall: {val_recall:.4f}\")\n",
        "print(f\"F1: {val_f1:.4f}\")\n",
        "print()\n",
        "print(\"Test Metrics:\")\n",
        "print(f\"Accuracy: {test_accuracy:.4f}\")\n",
        "print(f\"Precision: {test_precision:.4f}\")\n",
        "print(f\"Recall: {test_recall:.4f}\")\n",
        "print(f\"F1: {test_f1:.4f}\")"
      ],
      "metadata": {
        "colab": {
          "base_uri": "https://localhost:8080/"
        },
        "id": "5SZL7wPr4jMC",
        "outputId": "e05bbf17-bd60-46a9-8510-c40e861b76bd"
      },
      "execution_count": 82,
      "outputs": [
        {
          "output_type": "stream",
          "name": "stdout",
          "text": [
            "Validation Metrics:\n",
            "Accuracy: 0.8340\n",
            "Precision: 0.8294\n",
            "Recall: 0.8340\n",
            "F1: 0.7914\n",
            "\n",
            "Test Metrics:\n",
            "Accuracy: 0.8415\n",
            "Precision: 0.8341\n",
            "Recall: 0.8415\n",
            "F1: 0.8032\n"
          ]
        }
      ]
    },
    {
      "cell_type": "code",
      "source": [
        "import numpy as np\n",
        "\n",
        "# Split the reviews into words\n",
        "df['reviewText'] = df['reviewText'].apply(lambda x: x.split())\n",
        "\n",
        "# Calculate the length of each review (in words)\n",
        "df['review_length'] = df['reviewText'].apply(len)\n",
        "\n",
        "# Calculate the average review length\n",
        "avg_length = np.mean(df['review_length'])\n",
        "print(f\"Average review length: {avg_length} words\")"
      ],
      "metadata": {
        "id": "Q7rFR9Ft5Vm6"
      },
      "execution_count": null,
      "outputs": []
    },
    {
      "cell_type": "code",
      "source": [
        "import numpy as np\n",
        "import tensorflow as tf\n",
        "from keras.preprocessing.text import Tokenizer\n",
        "from tensorflow.keras.preprocessing.sequence import pad_sequences\n",
        "from keras.models import Sequential\n",
        "from keras.layers import Embedding, LSTM, Dense, Dropout\n",
        "from sklearn.model_selection import train_test_split\n",
        "\n",
        "# Define the maximum number of words to use in the tokenizer\n",
        "max_words = 10000\n",
        "\n",
        "# Tokenize the text reviews\n",
        "tokenizer = Tokenizer(num_words=max_words)\n",
        "tokenizer.fit_on_texts(train_df['text'])\n",
        "\n",
        "# Convert the text reviews to sequences of integer values\n",
        "X_train = tokenizer.texts_to_sequences(train_df['text'])\n",
        "X_val = tokenizer.texts_to_sequences(val_df['text'])\n",
        "X_test = tokenizer.texts_to_sequences(test_df['text'])\n",
        "\n",
        "# Pad the sequences to a fixed length\n",
        "max_length = 225\n",
        "X_train = pad_sequences(X_train, maxlen=max_length)\n",
        "X_val = pad_sequences(X_val, maxlen=max_length)\n",
        "X_test = pad_sequences(X_test, maxlen=max_length)\n",
        "\n",
        "# Define the LSTM model\n",
        "model = Sequential()\n",
        "model.add(Embedding(max_words, 128, input_length=max_length))\n",
        "model.add(LSTM(128, dropout=0.2, recurrent_dropout=0.2))\n",
        "model.add(Dense(1, activation='sigmoid'))\n",
        "\n",
        "# Compile the model\n",
        "model.compile(loss='binary_crossentropy', optimizer='adam', metrics=['accuracy'])\n",
        "\n",
        "# Train the model\n",
        "batch_size = 64\n",
        "epochs = 10\n",
        "model.fit(X_train, train_df['sentiment'], validation_data=(X_val, val_df['sentiment']), batch_size=batch_size, epochs=epochs)\n",
        "\n",
        "# Evaluate the model on the test set\n",
        "results = model.evaluate(X_test, test_df['sentiment'])\n",
        "print('Test loss:', results[0])\n",
        "print('Test accuracy:', results[1])"
      ],
      "metadata": {
        "colab": {
          "base_uri": "https://localhost:8080/"
        },
        "id": "e9o38Vd666YG",
        "outputId": "58b32aa3-8a04-4df6-adbc-48df4ecaf2e4"
      },
      "execution_count": 87,
      "outputs": [
        {
          "output_type": "stream",
          "name": "stdout",
          "text": [
            "Epoch 1/10\n",
            "338/338 [==============================] - 337s 986ms/step - loss: -1.2614 - accuracy: 0.6985 - val_loss: -2.8920 - val_accuracy: 0.7125\n",
            "Epoch 2/10\n",
            "338/338 [==============================] - 332s 983ms/step - loss: -6.7144 - accuracy: 0.7335 - val_loss: -7.1852 - val_accuracy: 0.7406\n",
            "Epoch 3/10\n",
            "338/338 [==============================] - 333s 985ms/step - loss: -11.1599 - accuracy: 0.7443 - val_loss: -10.7975 - val_accuracy: 0.7166\n",
            "Epoch 4/10\n",
            "338/338 [==============================] - 328s 970ms/step - loss: -17.6291 - accuracy: 0.7489 - val_loss: -16.1657 - val_accuracy: 0.7395\n",
            "Epoch 5/10\n",
            "338/338 [==============================] - 332s 982ms/step - loss: -22.7677 - accuracy: 0.7532 - val_loss: -18.6632 - val_accuracy: 0.7217\n",
            "Epoch 6/10\n",
            "338/338 [==============================] - 330s 978ms/step - loss: -28.1298 - accuracy: 0.7467 - val_loss: -20.0633 - val_accuracy: 0.6891\n",
            "Epoch 7/10\n",
            "338/338 [==============================] - 331s 979ms/step - loss: -33.2134 - accuracy: 0.7457 - val_loss: -24.9956 - val_accuracy: 0.7195\n",
            "Epoch 8/10\n",
            "338/338 [==============================] - 331s 979ms/step - loss: -39.3043 - accuracy: 0.7404 - val_loss: -26.4736 - val_accuracy: 0.7495\n",
            "Epoch 9/10\n",
            "338/338 [==============================] - 330s 976ms/step - loss: -45.0490 - accuracy: 0.7432 - val_loss: -32.1158 - val_accuracy: 0.7217\n",
            "Epoch 10/10\n",
            "338/338 [==============================] - 328s 971ms/step - loss: -51.5517 - accuracy: 0.7472 - val_loss: -36.5090 - val_accuracy: 0.7203\n",
            "85/85 [==============================] - 9s 108ms/step - loss: -36.2859 - accuracy: 0.7019\n",
            "Test loss: -36.28590393066406\n",
            "Test accuracy: 0.7018518447875977\n"
          ]
        }
      ]
    },
    {
      "cell_type": "code",
      "source": [
        "max_num_images = 0\n",
        "for index, row in df.iterrows():\n",
        "    num_images = 1 if isinstance(row['image'], str) else len(row['image'])\n",
        "    max_num_images = max(max_num_images, num_images)\n",
        "\n",
        "print(f\"Maximum number of images in a single record: {max_num_images}\")"
      ],
      "metadata": {
        "colab": {
          "base_uri": "https://localhost:8080/"
        },
        "id": "jJRTCt9N0IsZ",
        "outputId": "5b33ba24-97c1-423f-f587-7b47eab8b44b"
      },
      "execution_count": 88,
      "outputs": [
        {
          "output_type": "stream",
          "name": "stdout",
          "text": [
            "Maximum number of images in a single record: 35\n"
          ]
        }
      ]
    },
    {
      "cell_type": "code",
      "source": [
        "num_images = []\n",
        "\n",
        "for i in range(len(df)):\n",
        "    if isinstance(row['image'], str):\n",
        "        num_images.append(1)\n",
        "    else:\n",
        "        num_images.append(len(row['image']))\n",
        "\n",
        "avg_images = np.mean(num_images)\n",
        "\n",
        "print(\"Average number of images per record:\", avg_images)"
      ],
      "metadata": {
        "colab": {
          "base_uri": "https://localhost:8080/"
        },
        "id": "OkJxHoDE0YOT",
        "outputId": "71f04bc1-8ff7-4360-fb95-be79c9b236d2"
      },
      "execution_count": 92,
      "outputs": [
        {
          "output_type": "stream",
          "name": "stdout",
          "text": [
            "Average number of images per record: 5.0\n"
          ]
        }
      ]
    },
    {
      "cell_type": "code",
      "source": [
        "df['num_images'] = df['image'].apply(lambda x: len(x) if type(x) == list else 1)\n",
        "\n",
        "# Count the number of records for each value of num_images\n",
        "count_by_num_images = df['num_images'].value_counts()\n",
        "\n",
        "# Print the results\n",
        "print(count_by_num_images)"
      ],
      "metadata": {
        "colab": {
          "base_uri": "https://localhost:8080/"
        },
        "id": "qfvuB9a31sUR",
        "outputId": "800fc3d0-9292-4fe8-a081-5dd15a5d134a"
      },
      "execution_count": 93,
      "outputs": [
        {
          "output_type": "stream",
          "name": "stdout",
          "text": [
            "1     9761\n",
            "2     5981\n",
            "3     4026\n",
            "4     2574\n",
            "5     1601\n",
            "6     1041\n",
            "7      631\n",
            "8      442\n",
            "9      293\n",
            "10     210\n",
            "11     115\n",
            "12     105\n",
            "13      54\n",
            "14      54\n",
            "15      22\n",
            "20      19\n",
            "16      18\n",
            "18      13\n",
            "17       8\n",
            "19       6\n",
            "22       3\n",
            "24       3\n",
            "30       3\n",
            "27       2\n",
            "33       1\n",
            "26       1\n",
            "23       1\n",
            "28       1\n",
            "35       1\n",
            "34       1\n",
            "31       1\n",
            "21       1\n",
            "25       1\n",
            "Name: num_images, dtype: int64\n"
          ]
        }
      ]
    },
    {
      "cell_type": "code",
      "source": [
        "import os\n",
        "\n",
        "# directory path\n",
        "dir_path = \"/Users/arati/Desktop\"\n",
        "\n",
        "# check if the directory exists\n",
        "if os.path.exists(dir_path):\n",
        "    print(f\"{dir_path} exists\")\n",
        "\n",
        "    # check if the directory is writable\n",
        "    if os.access(dir_path, os.W_OK):\n",
        "        print(f\"{dir_path} is writable\")\n",
        "    else:\n",
        "        print(f\"{dir_path} is not writable\")\n",
        "else:\n",
        "    print(f\"{dir_path} does not exist\")"
      ],
      "metadata": {
        "colab": {
          "base_uri": "https://localhost:8080/"
        },
        "id": "CyhuXSJx_ynr",
        "outputId": "d9530302-cbb1-49c1-968c-743e27f3f520"
      },
      "execution_count": 22,
      "outputs": [
        {
          "output_type": "stream",
          "name": "stdout",
          "text": [
            "/Users/arati/Desktop does not exist\n"
          ]
        }
      ]
    },
    {
      "cell_type": "code",
      "source": [
        "import requests\n",
        "import os\n",
        "from urllib.parse import urlparse\n",
        "from PIL import Image\n",
        "from io import BytesIO\n",
        "\n",
        "# Set download directory in the Colab environment\n",
        "download_dir = '/content/images'\n",
        "\n",
        "# Create directory if it doesn't exist\n",
        "if not os.path.exists(download_dir):\n",
        "    os.makedirs(download_dir)\n",
        "\n",
        "# Extract individual URLs from lists if 'image' column contains lists\n",
        "image_urls = []\n",
        "for url_list in df['image']:\n",
        "    if isinstance(url_list, list):\n",
        "        for url in url_list:\n",
        "            image_urls.append(url)\n",
        "    else:\n",
        "        image_urls.append(url_list)\n",
        "\n",
        "total_images = len(image_urls)\n",
        "print(\"Total images:\", total_images)\n",
        "count=0\n",
        "\n",
        "# Download images and save to download directory\n",
        "for i, url in enumerate(image_urls):\n",
        "    response = requests.get(url)\n",
        "    filename = f\"image_{i:05}.jpg\"\n",
        "    filepath = os.path.join(download_dir, filename)\n",
        "    with open(filepath, \"wb\") as f:\n",
        "        f.write(response.content)\n",
        "        count+=1\n",
        "        #print(f\"Image {i} downloaded\")\n",
        "    if count%1000==0: \n",
        "      print(\"1k down\")\n",
        "print(\"all images downloaded\")"
      ],
      "metadata": {
        "id": "2XvvizOR-Jpz"
      },
      "execution_count": null,
      "outputs": []
    },
    {
      "cell_type": "code",
      "source": [
        "import os\n",
        "\n",
        "directory = 'images'\n",
        "\n",
        "# Get list of all files and directories\n",
        "file_list = os.listdir(directory)\n",
        "\n",
        "# Iterate over each file and directory in the list\n",
        "for file in file_list:\n",
        "    # Create full path to the file or directory\n",
        "    path = os.path.join(directory, file)\n",
        "    # Check if the path is a file or directory\n",
        "    if os.path.isfile(path):\n",
        "        # If it's a file, delete it\n",
        "        os.remove(path)\n",
        "    elif os.path.isdir(path):\n",
        "        # If it's a directory, delete it and all its contents\n",
        "        os.system(f\"rm -r {path}\")"
      ],
      "metadata": {
        "id": "_9ZqyvuQBV1d"
      },
      "execution_count": 28,
      "outputs": []
    },
    {
      "cell_type": "code",
      "source": [
        "import requests\n",
        "import os\n",
        "from urllib.parse import urlparse\n",
        "import pandas as pd\n",
        "\n",
        "# specify the directory where you want to save the images\n",
        "download_dir = \"/Users/arati/Desktop/images\"\n",
        "\n",
        "# set the number of records to download images for\n",
        "num_records = 1000\n",
        "\n",
        "# loop over the first num_records records\n",
        "for i in range(num_records):\n",
        "    # get the image urls for the current record\n",
        "    image_url = df.loc[i, \"image\"]\n",
        "    if isinstance(image_url, str):\n",
        "        # if there is only one image url, download it\n",
        "        filename = os.path.basename(urlparse(image_url).path)\n",
        "        download_path = os.path.join(download_dir, filename)\n",
        "        response = requests.get(image_url)\n",
        "        with open(download_path, \"wb\") as f:\n",
        "            f.write(response.content)\n",
        "    elif isinstance(image_url, list):\n",
        "        # if there are multiple image urls, download each one\n",
        "        for j, url in enumerate(image_url):\n",
        "            filename = f\"{i}_{j}_{os.path.basename(urlparse(url).path)}\"\n",
        "            download_path = os.path.join(download_dir, filename)\n",
        "            response = requests.get(url)\n",
        "            with open(download_path, \"wb\") as f:\n",
        "                f.write(response.content)"
      ],
      "metadata": {
        "id": "lQ5uvCzDASrx"
      },
      "execution_count": null,
      "outputs": []
    },
    {
      "cell_type": "code",
      "source": [],
      "metadata": {
        "id": "oqW6x89xthgZ"
      },
      "execution_count": null,
      "outputs": []
    }
  ]
}